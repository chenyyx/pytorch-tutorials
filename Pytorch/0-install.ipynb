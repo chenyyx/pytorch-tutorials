{
 "cells": [
  {
   "cell_type": "markdown",
   "metadata": {},
   "source": [
    "# 0、PyTorch installing\n",
    "\n",
    "PyTorch 的简洁设计使得它入门很简单，在深入介绍 PyTorch 之前，我们先在本节介绍一些 PyTorch 的基础知识，使得作者能够对 PyTorch 有一个大致的了解，并能够用 PyTorch 搭建一个简单的神经网络。\n",
    "\n",
    "## 0.1、安装 & 环境配置\n",
    "\n",
    "在我们学习 PyTorch 怎么用之前，我们首先要有 PyTorch 这个东西。\n",
    "\n",
    "### 0.1.1、安装 & 选择系统\n",
    "\n",
    "在 0.3 和之前的版本，PyTorch 只支持 mac 和 linux 版本，如果是 windows 就需要装虚拟机甚至是双系统。但是，0.4 版本的 PyTorch 已经支持 windows 了。所以，在任何系统上安装 PyTorch 都已经变得异常简单。（仍然建议在 Linux 系统上安装 PyTorch，因为所有的机器学习框架在 Linux 上都有很好的支持，远远好于 windows 系统，另一方面，linux 并不像你想象中的那样难学。）\n",
    " \n",
    "### 0.1.2、环境配置\n",
    "\n",
    "明确了要安装的系统之后，接着就是环境配置。首推 Anaconda ，这是一个科学计算的集成环境，安装完成之后基本所需要的包都有了，而且还提供交互式的 jupyter notebook，可以说为我们的实验提供了很好的交互环境。在 https://www.anaconda.com/download/ 网址，点击下载即可（记得根据 Python 版本选择，建议 Python 3.6 版本）。下载下来，双击安装即可。在安装期间会弹出框，询问是否将 anaconda 加入到我们的系统环境变量中，记得打上 对勾 即可。\n",
    "\n",
    "### 0.1.3、安装 PyTorch\n",
    "\n",
    "安装完了 anaconda ，我们就可以安装 pytorch 了。进入 PyTorch 官网首页， https://pytorch.org/ ，然后选择自己的环境，按照提示命令安装即可。只是，如果要装 GPU 版本，需要 cuda 和 cudnn ，网上的教程很多，可以搜一搜哦。如果你只是为了快速上手玩一玩 PyTorch ，那么可以不用费时间安装 GPU 版本，安装一个 cpu 版本就可以满足你的需求了。"
   ]
  }
 ],
 "metadata": {
  "kernelspec": {
   "display_name": "Python 3",
   "language": "python",
   "name": "python3"
  },
  "language_info": {
   "codemirror_mode": {
    "name": "ipython",
    "version": 3
   },
   "file_extension": ".py",
   "mimetype": "text/x-python",
   "name": "python",
   "nbconvert_exporter": "python",
   "pygments_lexer": "ipython3",
   "version": "3.6.3"
  }
 },
 "nbformat": 4,
 "nbformat_minor": 2
}
