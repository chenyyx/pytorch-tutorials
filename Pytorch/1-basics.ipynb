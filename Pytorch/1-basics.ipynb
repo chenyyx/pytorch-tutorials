{
 "cells": [
  {
   "cell_type": "markdown",
   "metadata": {},
   "source": [
    "# 1、PyTorch Bascis\n",
    "\n",
    "上一节我们介绍了怎么安装 PyTorch，在深入介绍 PyTorch 之前，本节将先介绍一些 PyTorch 的基础知识，使得读者能够对 PyTorch 有一个大致的了解。\n",
    "\n",
    "\n",
    "## 1.1、Tensor\n",
    "\n",
    "Tensor 是 PyTorch 中重要的数据结构，是 张量 的英文，可以认为是一个高维数组。它可以是一个数（标量）、一维数组（向量）、二维数组（矩阵）以及更高维的数组。PyTorch 里面处理的单位就是一个一个的 tensor 。 Tensor 和 NumPy 的 ndarray 类似，但是 Tensor 可以使用 GPU 进行加速。Tensor 的使用和 NumPy 以及 Matlab 的接口十分相似，下面我们通过几个例子来看看 Tensor 的基本使用。\n",
    "\n",
    "### 1.1.1、Tensor 基本用法"
   ]
  },
  {
   "cell_type": "code",
   "execution_count": 2,
   "metadata": {},
   "outputs": [
    {
     "data": {
      "text/plain": [
       "tensor(1.00000e-42 *\n",
       "       [[ 0.2060,  0.0000,  0.0000],\n",
       "        [ 0.0000,  0.0000,  0.0000],\n",
       "        [ 0.0000,  0.0000,  0.0000],\n",
       "        [ 0.0000,  1.4069,  0.0000],\n",
       "        [ 0.0000,  0.0000,  0.0000]])"
      ]
     },
     "execution_count": 2,
     "metadata": {},
     "output_type": "execute_result"
    }
   ],
   "source": [
    "# 导入 torch 库\n",
    "import torch as t\n",
    "\n",
    "# 构建 5x3 矩阵，这时候只是分配了空间，但是未初始化\n",
    "x = t.Tensor(5, 3)\n",
    "x"
   ]
  },
  {
   "cell_type": "code",
   "execution_count": 3,
   "metadata": {},
   "outputs": [
    {
     "data": {
      "text/plain": [
       "tensor([[ 0.7261,  0.6628,  0.6221],\n",
       "        [ 0.8366,  0.8685,  0.9392],\n",
       "        [ 0.5753,  0.3848,  0.1666],\n",
       "        [ 0.8878,  0.1466,  0.2254],\n",
       "        [ 0.0756,  0.4799,  0.1177]])"
      ]
     },
     "execution_count": 3,
     "metadata": {},
     "output_type": "execute_result"
    }
   ],
   "source": [
    "# 使用 [0, 1] 均匀分布随机初始化二维数组\n",
    "x = t.rand(5, 3)\n",
    "x"
   ]
  },
  {
   "cell_type": "code",
   "execution_count": 4,
   "metadata": {},
   "outputs": [
    {
     "name": "stdout",
     "output_type": "stream",
     "text": [
      "torch.Size([5, 3])\n"
     ]
    }
   ],
   "source": [
    "# 查看 x 的形状\n",
    "print(x.size())"
   ]
  },
  {
   "cell_type": "code",
   "execution_count": 5,
   "metadata": {},
   "outputs": [
    {
     "name": "stdout",
     "output_type": "stream",
     "text": [
      "3\n",
      "3\n"
     ]
    }
   ],
   "source": [
    "# 查看列的个数，下面的两种写法是等价的\n",
    "print(x.size()[1])\n",
    "print(x.size(1))"
   ]
  },
  {
   "cell_type": "markdown",
   "metadata": {},
   "source": [
    "torch.size 是 tuple 对象的子类，因此它支持 tuple 的所有操作，如 x.size()[0]\n",
    "\n",
    "tensor 的加法有三种不同的写法，下面总结一下"
   ]
  },
  {
   "cell_type": "code",
   "execution_count": 6,
   "metadata": {},
   "outputs": [
    {
     "name": "stdout",
     "output_type": "stream",
     "text": [
      "最初y\n",
      "tensor([[ 0.9780,  0.1765,  0.0100],\n",
      "        [ 0.0436,  0.1372,  0.1617],\n",
      "        [ 0.3394,  0.5091,  0.5517],\n",
      "        [ 0.4899,  0.7167,  0.8781],\n",
      "        [ 0.4250,  0.0023,  0.7044]])\n",
      "第一种加法，y的结果\n",
      "tensor([[ 0.9780,  0.1765,  0.0100],\n",
      "        [ 0.0436,  0.1372,  0.1617],\n",
      "        [ 0.3394,  0.5091,  0.5517],\n",
      "        [ 0.4899,  0.7167,  0.8781],\n",
      "        [ 0.4250,  0.0023,  0.7044]])\n",
      "第二种加法，y的结果\n",
      "tensor([[ 0.9780,  0.1765,  0.0100],\n",
      "        [ 0.0436,  0.1372,  0.1617],\n",
      "        [ 0.3394,  0.5091,  0.5517],\n",
      "        [ 0.4899,  0.7167,  0.8781],\n",
      "        [ 0.4250,  0.0023,  0.7044]])\n",
      "第三种加法，y的结果\n",
      "tensor([[ 1.7041,  0.8393,  0.6321],\n",
      "        [ 0.8802,  1.0057,  1.1009],\n",
      "        [ 0.9147,  0.8939,  0.7183],\n",
      "        [ 1.3777,  0.8633,  1.1035],\n",
      "        [ 0.5006,  0.4822,  0.8221]])\n"
     ]
    }
   ],
   "source": [
    "y = t.rand(5, 3)\n",
    "\n",
    "print('最初y')\n",
    "print(y)\n",
    "\n",
    "print('第一种加法，y的结果')\n",
    "x + y # 普通加法，不改变y的内容\n",
    "print(y)\n",
    "\n",
    "print('第二种加法，y的结果')\n",
    "y.add(x) # 普通加法，不改变y的内容\n",
    "print(y)\n",
    "# 第二种写法，还可以指定加法结果的输出目标为 result\n",
    "# result = t.Tensor(5, 3)\n",
    "# t.add(x, y, out=result) # 输入到 result\n",
    "# result\n",
    "\n",
    "print('第三种加法，y的结果')\n",
    "y.add_(x) # inplace 加法，y变了\n",
    "print(y)"
   ]
  },
  {
   "cell_type": "markdown",
   "metadata": {},
   "source": [
    "注意：函数名后面带下划线 _ 的函数会修改 Tensor 本身。例如， x.add_(y) 和 x.t_() 会改变 x ，但 x.add(y) 和 x.t() 返回一个新的 Tensor ，而 x 不变。\n",
    "\n",
    "### 1.1.2、把 Tensor 当做 NumPy 使用\n",
    "\n",
    "Tensor 支持很多操作，包括数学运算、线性代数、选择、切片等等，其接口设计与 NumPy 极为相似。并且 Tensor 和 NumPy 的数组之间的互操作非常容易且快速。这就为我们提供了一种解题思路 —— 对于 Tensor 不支持的操作，可以先转为 NumPy 数组处理，之后再转回 Tensor 。"
   ]
  },
  {
   "cell_type": "code",
   "execution_count": 7,
   "metadata": {
    "collapsed": true
   },
   "outputs": [],
   "source": [
    "# 导入 NumPy 库\n",
    "import numpy as np"
   ]
  },
  {
   "cell_type": "code",
   "execution_count": 8,
   "metadata": {},
   "outputs": [
    {
     "data": {
      "text/plain": [
       "tensor([ 0.6628,  0.8685,  0.3848,  0.1466,  0.4799])"
      ]
     },
     "execution_count": 8,
     "metadata": {},
     "output_type": "execute_result"
    }
   ],
   "source": [
    "# Tensor 的选取操作与 Numpy 类似\n",
    "x[:, 1] # 选取第二列的所有数据"
   ]
  },
  {
   "cell_type": "code",
   "execution_count": 9,
   "metadata": {},
   "outputs": [
    {
     "data": {
      "text/plain": [
       "tensor([ 1.,  1.,  1.,  1.,  1.])"
      ]
     },
     "execution_count": 9,
     "metadata": {},
     "output_type": "execute_result"
    }
   ],
   "source": [
    "# 创建一个全为 1 的 Tensor\n",
    "a = t.ones(5)\n",
    "a"
   ]
  },
  {
   "cell_type": "code",
   "execution_count": 10,
   "metadata": {},
   "outputs": [
    {
     "data": {
      "text/plain": [
       "array([ 1.,  1.,  1.,  1.,  1.], dtype=float32)"
      ]
     },
     "execution_count": 10,
     "metadata": {},
     "output_type": "execute_result"
    }
   ],
   "source": [
    "# 将 Tensor 转化为 numpy 的 ndarray，使用的是 tensor.numpy() 方法\n",
    "b = a.numpy()\n",
    "b"
   ]
  },
  {
   "cell_type": "code",
   "execution_count": 11,
   "metadata": {},
   "outputs": [
    {
     "name": "stdout",
     "output_type": "stream",
     "text": [
      "[ 1.  1.  1.  1.  1.]\n",
      "tensor([ 1.,  1.,  1.,  1.,  1.], dtype=torch.float64)\n"
     ]
    }
   ],
   "source": [
    "# 同样，我们也可以将 numpy 的ndarray 转化为 tensor\n",
    "a = np.ones(5)\n",
    "b = t.from_numpy(a)\n",
    "print(a)\n",
    "print(b)"
   ]
  },
  {
   "cell_type": "markdown",
   "metadata": {
    "collapsed": true
   },
   "source": [
    "Tensor 和 NumPy 对象共享内存，所以他们之间的转换很快，而且几乎不会消耗什么资源。但这也意味着，如果其中一个变了，另外一个也会随之改变。\n",
    "\n",
    "下面我们总结一下："
   ]
  },
  {
   "cell_type": "code",
   "execution_count": 13,
   "metadata": {
    "collapsed": true
   },
   "outputs": [],
   "source": [
    "# 创建一个 numpy ndarray\n",
    "numpy_tensor = np.random.randn(10, 20)"
   ]
  },
  {
   "cell_type": "markdown",
   "metadata": {},
   "source": [
    "我们可以使用下面两种方式将 numpy 的 ndarray 转换到 tensor 上"
   ]
  },
  {
   "cell_type": "code",
   "execution_count": 16,
   "metadata": {
    "collapsed": true
   },
   "outputs": [],
   "source": [
    "pytorch_tensor1 = t.Tensor(numpy_tensor)\n",
    "pytorch_tensor2 = t.from_numpy(numpy_tensor)"
   ]
  },
  {
   "cell_type": "markdown",
   "metadata": {},
   "source": [
    "使用以上两种方法进行转换的时候，会直接将 NumPy ndarray 的数据类型转换为对应的 PyTorch Tensor 数据类型\n",
    "\n",
    "同时我们也可以使用下面的方法将 PyTorch tensor 转换为 numpy ndarray"
   ]
  },
  {
   "cell_type": "markdown",
   "metadata": {},
   "source": [
    "Tensor 可通过 .cuda 方法转为 GPU 的 Tensor ，从而享受 GPU 带来的加速运算。"
   ]
  },
  {
   "cell_type": "code",
   "execution_count": 19,
   "metadata": {
    "collapsed": true
   },
   "outputs": [],
   "source": [
    "# 如果 pytorch tensor 在 cpu 上\n",
    "numpy_array = pytorch_tensor1.numpy()\n",
    "\n",
    "# 如果 pytorch tensor 在 gpu 上\n",
    "# numpy_array = pytorch_tensor1.cpu().numpy()"
   ]
  },
  {
   "cell_type": "markdown",
   "metadata": {},
   "source": [
    "需要注意的是，GPU 上的 Tensor 不能直接转换为 NumPy ndarray ，需要使用 .cpu() 先将 GPU 上的 tensor 转到 CPU 上，类型跟之前保持一致\n",
    "\n",
    "PyTorch Tensor 使用 GPU 加速\n",
    "\n",
    "我们可以使用以下两种方式将 Tensor 放到 GPU 上"
   ]
  },
  {
   "cell_type": "code",
   "execution_count": 20,
   "metadata": {
    "collapsed": true
   },
   "outputs": [],
   "source": [
    "# 第一种方式是定义 cuda 数据类型\n",
    "# dtype = t.cuda.FloatTensor # 定义默认的 GPU 的数据类型\n",
    "# gpu_tensor = torch.randn(10, 20).type(dtype)\n",
    "\n",
    "# 第二种方式更简单，推荐使用\n",
    "# gpu_tensor = torch.randn(10, 20).cuda(0) # 将 tensor 放到第一个 GPU 上\n",
    "# gpu_tensor = torch.randn(10, 20).cuda(1) # 将 tensor 放到第二个 GPU 上"
   ]
  },
  {
   "cell_type": "markdown",
   "metadata": {},
   "source": [
    "使用第一种方式将 tensor 放到 GPU 上的时候会将数据类型转换成定义的类型,而使用第二种方式能够直接将 tensor 放到 GPU 上,类型跟之前保持一致\n",
    "\n",
    "推荐在定义 tensor 的时候就明确数据类型，然后直接使用第二种方法将 tensor 放到 GPU 上\n",
    "\n",
    "而将 tensor 放回 CPU 的操作非常简单"
   ]
  },
  {
   "cell_type": "code",
   "execution_count": 23,
   "metadata": {
    "collapsed": true
   },
   "outputs": [],
   "source": [
    "# cpu_tensor = gpu_tensor.cpu()"
   ]
  },
  {
   "cell_type": "markdown",
   "metadata": {},
   "source": [
    "我们能够访问到 Tensor 的一些属性"
   ]
  },
  {
   "cell_type": "code",
   "execution_count": 24,
   "metadata": {},
   "outputs": [
    {
     "name": "stdout",
     "output_type": "stream",
     "text": [
      "torch.Size([10, 20])\n",
      "torch.Size([10, 20])\n"
     ]
    }
   ],
   "source": [
    "# 可以通过下面两种方式得到 tensor 的大小\n",
    "print(pytorch_tensor1.shape)\n",
    "print(pytorch_tensor1.size())"
   ]
  },
  {
   "cell_type": "code",
   "execution_count": 25,
   "metadata": {},
   "outputs": [
    {
     "name": "stdout",
     "output_type": "stream",
     "text": [
      "torch.FloatTensor\n"
     ]
    }
   ],
   "source": [
    "# 得到 tensor 的数据类型\n",
    "print(pytorch_tensor1.type())"
   ]
  },
  {
   "cell_type": "code",
   "execution_count": 26,
   "metadata": {},
   "outputs": [
    {
     "name": "stdout",
     "output_type": "stream",
     "text": [
      "2\n"
     ]
    }
   ],
   "source": [
    "# 得到 tensor 的维度\n",
    "print(pytorch_tensor1.dim())"
   ]
  },
  {
   "cell_type": "code",
   "execution_count": 27,
   "metadata": {},
   "outputs": [
    {
     "name": "stdout",
     "output_type": "stream",
     "text": [
      "200\n"
     ]
    }
   ],
   "source": [
    "# 得到 tensor 的所有元素个数\n",
    "print(pytorch_tensor1.numel())"
   ]
  },
  {
   "cell_type": "markdown",
   "metadata": {},
   "source": [
    "#### 小练习\n",
    "\n",
    "根据我们上面的介绍，以及连接 https://pytorch.org/docs/stable/tensors.html 了解 tensor 的数据类型，创建一个 float64、大小是 3 x 2、随机初始化的 tensor ，将其转化为 numpy 的 ndarray ，输出其数据类型\n",
    "\n",
    "参考输出： float64"
   ]
  },
  {
   "cell_type": "code",
   "execution_count": 30,
   "metadata": {},
   "outputs": [
    {
     "name": "stdout",
     "output_type": "stream",
     "text": [
      "float64\n"
     ]
    }
   ],
   "source": [
    "# 答案\n",
    "x = t.randn(3, 2)\n",
    "x = x.type(t.DoubleTensor)\n",
    "x_array = x.numpy()\n",
    "print(x_array.dtype)"
   ]
  },
  {
   "cell_type": "markdown",
   "metadata": {},
   "source": [
    "### 1.1.3、Tensor 的操作\n",
    "\n",
    "Tensor 操作中的 api 和 NumPy 非常相似，如果你熟悉 NumPy 中的操作，那么 tensor 基本是一致的，下面我们来列举其中的一些操作"
   ]
  },
  {
   "cell_type": "code",
   "execution_count": 32,
   "metadata": {},
   "outputs": [
    {
     "name": "stdout",
     "output_type": "stream",
     "text": [
      "tensor([[ 1.,  1.],\n",
      "        [ 1.,  1.]])\n"
     ]
    }
   ],
   "source": [
    "tensor1 = t.ones(2, 2)\n",
    "print(tensor1)"
   ]
  },
  {
   "cell_type": "code",
   "execution_count": 33,
   "metadata": {},
   "outputs": [
    {
     "name": "stdout",
     "output_type": "stream",
     "text": [
      "torch.FloatTensor\n"
     ]
    }
   ],
   "source": [
    "print(tensor1.type())"
   ]
  },
  {
   "cell_type": "code",
   "execution_count": 34,
   "metadata": {},
   "outputs": [
    {
     "name": "stdout",
     "output_type": "stream",
     "text": [
      "tensor([[ 1,  1],\n",
      "        [ 1,  1]])\n"
     ]
    }
   ],
   "source": [
    "# 将其转化为整形\n",
    "tensor1 = tensor1.long()\n",
    "# tensor1 = tensor1.type(t.LongTensor)\n",
    "print(tensor1)"
   ]
  },
  {
   "cell_type": "code",
   "execution_count": 35,
   "metadata": {},
   "outputs": [
    {
     "name": "stdout",
     "output_type": "stream",
     "text": [
      "tensor([[ 1.,  1.],\n",
      "        [ 1.,  1.]])\n"
     ]
    }
   ],
   "source": [
    "# 再将其转回 float\n",
    "tensor1 = tensor1.float()\n",
    "# tensor1 = tensor1.type(t.FloatTensor)\n",
    "print(tensor1)"
   ]
  },
  {
   "cell_type": "code",
   "execution_count": 36,
   "metadata": {},
   "outputs": [
    {
     "name": "stdout",
     "output_type": "stream",
     "text": [
      "tensor([[-0.3999,  0.0942, -0.1311],\n",
      "        [-0.9040,  0.4237, -0.2105],\n",
      "        [-0.9978,  0.3036, -1.4675],\n",
      "        [ 1.4417, -1.1351,  0.0788]])\n"
     ]
    }
   ],
   "source": [
    "# 创建一个新的 tensor\n",
    "tensor2 = t.randn(4, 3)\n",
    "print(tensor2)"
   ]
  },
  {
   "cell_type": "code",
   "execution_count": 37,
   "metadata": {},
   "outputs": [
    {
     "data": {
      "text/plain": [
       "tensor([ 0.0942,  0.4237,  0.3036,  1.4417])"
      ]
     },
     "execution_count": 37,
     "metadata": {},
     "output_type": "execute_result"
    }
   ],
   "source": [
    "# 沿着行取最大值\n",
    "max_value, max_idx = t.max(tensor2, dim=1)\n",
    "# 每一行的最大值\n",
    "max_value"
   ]
  },
  {
   "cell_type": "code",
   "execution_count": 38,
   "metadata": {},
   "outputs": [
    {
     "data": {
      "text/plain": [
       "tensor([ 1,  1,  1,  0])"
      ]
     },
     "execution_count": 38,
     "metadata": {},
     "output_type": "execute_result"
    }
   ],
   "source": [
    "# 每一行最大值的下标\n",
    "max_idx"
   ]
  },
  {
   "cell_type": "code",
   "execution_count": 40,
   "metadata": {},
   "outputs": [
    {
     "name": "stdout",
     "output_type": "stream",
     "text": [
      "tensor([-0.4369, -0.6907, -2.1616,  0.3854])\n"
     ]
    }
   ],
   "source": [
    "# 沿着行对 tensor2 求和\n",
    "sum_x = t.sum(tensor2, dim=1)\n",
    "print(sum_x)"
   ]
  },
  {
   "cell_type": "code",
   "execution_count": 42,
   "metadata": {},
   "outputs": [
    {
     "name": "stdout",
     "output_type": "stream",
     "text": [
      "torch.Size([4, 3])\n",
      "torch.Size([1, 4, 3])\n"
     ]
    }
   ],
   "source": [
    "# 增加维度或者减少维度\n",
    "print(tensor2.shape)\n",
    "tensor2 = tensor2.unsqueeze(0) # 在第一维增加\n",
    "print(tensor2.shape)"
   ]
  },
  {
   "cell_type": "code",
   "execution_count": 43,
   "metadata": {},
   "outputs": [
    {
     "name": "stdout",
     "output_type": "stream",
     "text": [
      "torch.Size([1, 1, 4, 3])\n"
     ]
    }
   ],
   "source": [
    "tensor2 = tensor2.unsqueeze(1) # 在第二维增加\n",
    "print(tensor2.shape)"
   ]
  },
  {
   "cell_type": "code",
   "execution_count": 44,
   "metadata": {},
   "outputs": [
    {
     "name": "stdout",
     "output_type": "stream",
     "text": [
      "torch.Size([1, 4, 3])\n"
     ]
    }
   ],
   "source": [
    "tensor2 = tensor2.squeeze(0) # 减少第一维\n",
    "print(tensor2.shape)"
   ]
  },
  {
   "cell_type": "code",
   "execution_count": 45,
   "metadata": {},
   "outputs": [
    {
     "name": "stdout",
     "output_type": "stream",
     "text": [
      "torch.Size([4, 3])\n"
     ]
    }
   ],
   "source": [
    "tensor2 = tensor2.squeeze() # 将 tensor 中所有的一维全部都去掉\n",
    "print(tensor2.shape)"
   ]
  },
  {
   "cell_type": "code",
   "execution_count": 46,
   "metadata": {},
   "outputs": [
    {
     "name": "stdout",
     "output_type": "stream",
     "text": [
      "torch.Size([3, 4, 5])\n",
      "torch.Size([4, 3, 5])\n",
      "torch.Size([5, 3, 4])\n"
     ]
    }
   ],
   "source": [
    "tensor3 = t.randn(3, 4, 5)\n",
    "print(tensor3.shape)\n",
    "\n",
    "# 使用 permute 和 transpose 进行维度交换\n",
    "tensor3 = tensor3.permute(1, 0, 2) # permute 可以重新排列 tensor 的维度\n",
    "print(tensor3.shape)\n",
    "\n",
    "tensor3 = tensor3.transpose(0, 2) # transpose 交换 tensor 中的两个维度\n",
    "print(tensor3.shape)"
   ]
  },
  {
   "cell_type": "code",
   "execution_count": 47,
   "metadata": {},
   "outputs": [
    {
     "name": "stdout",
     "output_type": "stream",
     "text": [
      "torch.Size([3, 4, 5])\n",
      "torch.Size([12, 5])\n",
      "torch.Size([3, 20])\n"
     ]
    }
   ],
   "source": [
    "# 使用 view 对 tensor 进行 reshape\n",
    "tensor4 = t.randn(3, 4, 5)\n",
    "print(tensor4.shape)\n",
    "\n",
    "tensor4 = tensor4.view(-1, 5) # -1 表示任意的大小， 5 表示第二维变成 5\n",
    "print(tensor4.shape)\n",
    "\n",
    "tensor4 = tensor4.view(3, 20) # 重新 reshape 成 (3, 20) 的大小\n",
    "print(tensor4.shape)"
   ]
  },
  {
   "cell_type": "code",
   "execution_count": 51,
   "metadata": {
    "collapsed": true
   },
   "outputs": [],
   "source": [
    "tensor5 = t.randn(3, 4)\n",
    "tensor6 = t.randn(3, 4)\n",
    "\n",
    "# 两个 tensor 求和\n",
    "tensor7 = tensor5 + tensor6\n",
    "# z = t.add(x, y)"
   ]
  },
  {
   "cell_type": "markdown",
   "metadata": {},
   "source": [
    "另外，pytorch 中大多数的操作都支持 inplace 操作，也就是可以直接对 tensor 进行操作而不是另外开辟内存空间，方式非常简单，一般都是在操作的符号后面加 _ ，比如"
   ]
  },
  {
   "cell_type": "code",
   "execution_count": 52,
   "metadata": {},
   "outputs": [
    {
     "name": "stdout",
     "output_type": "stream",
     "text": [
      "torch.Size([3, 3])\n",
      "torch.Size([1, 3, 3])\n",
      "torch.Size([3, 1, 3])\n"
     ]
    }
   ],
   "source": [
    "tensor8 = t.ones(3, 3)\n",
    "print(tensor8.shape)\n",
    "\n",
    "# unsqueeze 进行 inplace\n",
    "tensor8.unsqueeze_(0)\n",
    "print(tensor8.shape)\n",
    "\n",
    "# transpose 进行 inplace\n",
    "tensor8.transpose_(1, 0)\n",
    "print(tensor8.shape)"
   ]
  },
  {
   "cell_type": "code",
   "execution_count": 53,
   "metadata": {},
   "outputs": [
    {
     "name": "stdout",
     "output_type": "stream",
     "text": [
      "tensor([[ 1.,  1.,  1.],\n",
      "        [ 1.,  1.,  1.],\n",
      "        [ 1.,  1.,  1.]])\n",
      "tensor([[ 2.,  2.,  2.],\n",
      "        [ 2.,  2.,  2.],\n",
      "        [ 2.,  2.,  2.]])\n"
     ]
    }
   ],
   "source": [
    "t1 = t.ones(3, 3)\n",
    "t2 = t.ones(3, 3)\n",
    "print(t1)\n",
    "\n",
    "# add 进行 inplace\n",
    "t1.add_(t2)\n",
    "print(t1)"
   ]
  },
  {
   "cell_type": "markdown",
   "metadata": {},
   "source": [
    "#### 小练习\n",
    "\n",
    "查看 https://pytorch.org/docs/stable/tensors.html 了解 tensor 更多的 api ，实现下面的要求\n",
    "\n",
    "创建一个 float32、 4x4 的全为 1 的矩阵，将矩阵正中间 2x2 的矩阵，全部修改成 2\n",
    "\n",
    "参考输出\n",
    "\n",
    "![](img/mini_1.png)"
   ]
  },
  {
   "cell_type": "markdown",
   "metadata": {},
   "source": [
    "## 1.2、Variable\n",
    "\n",
    "tensor 是 PyTorch 中的完美组件，但是构建神经网络还远远不够，我们需要能够构建计算图的 tensor，这就是 Variable 。autograd.Variable 是 Autograd 中的核心类，它简单封装了Tensor，并支持几乎所有 Tensor 有的操作。Tensor在被封装为 Variable 之后，可以调用它的 .backward 实现反向传播，自动计算所有梯度。\n",
    "\n",
    "Variable 主要包含三个属性：\n",
    "\n",
    " - data ：保存 Variable 所包含的 Tensor 。\n",
    " - grad ：保存 data 对应的梯度， grad 也是个 Variable，而不是 Tensor，它和 data 的形状一样。\n",
    " - grad_fn ：指向一个 Function 对象，这个 Function 用来反向传播计算输入的梯度。"
   ]
  },
  {
   "cell_type": "code",
   "execution_count": 54,
   "metadata": {
    "collapsed": true
   },
   "outputs": [],
   "source": [
    "# 通过下面这种方式导入 Variable\n",
    "from torch.autograd import Variable"
   ]
  },
  {
   "cell_type": "code",
   "execution_count": 55,
   "metadata": {
    "collapsed": true
   },
   "outputs": [],
   "source": [
    "x_tensor = t.randn(10, 5)\n",
    "y_tensor = t.randn(10, 5)\n",
    "\n",
    "# 将 tensor 变成 Variable\n",
    "x = Variable(x_tensor, requires_grad=True) # 默认 Variable 是不需要求梯度的，所以我们用这个方式申明需要对其进行求梯度\n",
    "y = Variable(y_tensor, requires_grad=True)"
   ]
  },
  {
   "cell_type": "code",
   "execution_count": 56,
   "metadata": {
    "collapsed": true
   },
   "outputs": [],
   "source": [
    "z = t.sum(x + y)"
   ]
  },
  {
   "cell_type": "code",
   "execution_count": 57,
   "metadata": {},
   "outputs": [
    {
     "name": "stdout",
     "output_type": "stream",
     "text": [
      "tensor(11.2499)\n",
      "<SumBackward0 object at 0x00000000092E4A20>\n"
     ]
    }
   ],
   "source": [
    "print(z.data)\n",
    "print(z.grad_fn)"
   ]
  },
  {
   "cell_type": "markdown",
   "metadata": {},
   "source": [
    "上面我们打出了 z 中的 tensor 数值，同时通过 grad_fn 知道了其是通过 sum 这种方式得到的"
   ]
  },
  {
   "cell_type": "code",
   "execution_count": 58,
   "metadata": {},
   "outputs": [
    {
     "name": "stdout",
     "output_type": "stream",
     "text": [
      "tensor([[ 1.,  1.,  1.,  1.,  1.],\n",
      "        [ 1.,  1.,  1.,  1.,  1.],\n",
      "        [ 1.,  1.,  1.,  1.,  1.],\n",
      "        [ 1.,  1.,  1.,  1.,  1.],\n",
      "        [ 1.,  1.,  1.,  1.,  1.],\n",
      "        [ 1.,  1.,  1.,  1.,  1.],\n",
      "        [ 1.,  1.,  1.,  1.,  1.],\n",
      "        [ 1.,  1.,  1.,  1.,  1.],\n",
      "        [ 1.,  1.,  1.,  1.,  1.],\n",
      "        [ 1.,  1.,  1.,  1.,  1.]])\n",
      "tensor([[ 1.,  1.,  1.,  1.,  1.],\n",
      "        [ 1.,  1.,  1.,  1.,  1.],\n",
      "        [ 1.,  1.,  1.,  1.,  1.],\n",
      "        [ 1.,  1.,  1.,  1.,  1.],\n",
      "        [ 1.,  1.,  1.,  1.,  1.],\n",
      "        [ 1.,  1.,  1.,  1.,  1.],\n",
      "        [ 1.,  1.,  1.,  1.,  1.],\n",
      "        [ 1.,  1.,  1.,  1.,  1.],\n",
      "        [ 1.,  1.,  1.,  1.,  1.],\n",
      "        [ 1.,  1.,  1.,  1.,  1.]])\n"
     ]
    }
   ],
   "source": [
    "# 求 x 和 y 的梯度\n",
    "z.backward()\n",
    "\n",
    "print(x.grad)\n",
    "print(y.grad)"
   ]
  },
  {
   "cell_type": "markdown",
   "metadata": {},
   "source": [
    "通过 .grad 我们得到了 x 和 y 的梯度，这里我们使用了 PyTorch 提供的自动求导机制，非常方便，下一节我们再具体讲解自动求导。\n",
    "\n",
    "#### 小练习\n",
    "\n",
    "尝试构建一个函数 $y = x^2$ ，然后求 x = 2 的导数。\n",
    "\n",
    "参考输出：4\n",
    "\n",
    "提示：\n",
    "\n",
    "$y = x^2$ 的图像如下"
   ]
  },
  {
   "cell_type": "code",
   "execution_count": 59,
   "metadata": {},
   "outputs": [
    {
     "data": {
      "image/png": "[encoded data removed]",
      "text/plain": [
       "<matplotlib.figure.Figure at 0x92e4c50>"
      ]
     },
     "metadata": {},
     "output_type": "display_data"
    }
   ],
   "source": [
    "import matplotlib.pyplot as plt\n",
    "x = np.arange(-3, 3.01, 0.1)\n",
    "y = x ** 2\n",
    "plt.plot(x, y)\n",
    "plt.plot(2, 4, 'ro')\n",
    "plt.show()"
   ]
  },
  {
   "cell_type": "code",
   "execution_count": 61,
   "metadata": {},
   "outputs": [
    {
     "name": "stdout",
     "output_type": "stream",
     "text": [
      "tensor([ 4.])\n"
     ]
    }
   ],
   "source": [
    "# 答案\n",
    "x = Variable(t.FloatTensor([2]), requires_grad=True)\n",
    "y = x ** 2\n",
    "y.backward()\n",
    "print(x.grad)"
   ]
  },
  {
   "cell_type": "markdown",
   "metadata": {},
   "source": [
    "下一次课程我们将会从导数展开，了解 PyTorch 的自动求导机制。\n",
    "\n",
    "#### 附加\n",
    "\n",
    "对于 backward 不理解的同学，看这个链接：https://l1aoxingyu.github.io/2017/07/10/backward/ 可以说写的简直不能再好了。"
   ]
  }
 ],
 "metadata": {
  "kernelspec": {
   "display_name": "Python 3",
   "language": "python",
   "name": "python3"
  },
  "language_info": {
   "codemirror_mode": {
    "name": "ipython",
    "version": 3
   },
   "file_extension": ".py",
   "mimetype": "text/x-python",
   "name": "python",
   "nbconvert_exporter": "python",
   "pygments_lexer": "ipython3",
   "version": "3.6.3"
  }
 },
 "nbformat": 4,
 "nbformat_minor": 2
}
